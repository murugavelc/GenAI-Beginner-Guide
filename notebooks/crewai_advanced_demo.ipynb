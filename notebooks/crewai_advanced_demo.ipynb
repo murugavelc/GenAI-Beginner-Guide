{
 "cells": [
  {
   "cell_type": "markdown",
   "id": "5358b7b1",
   "metadata": {},
   "source": [
    "# CrewAI Advanced Demo: Multiple Agents, Complex Tasks, and LLM Provider Experimentation\n",
    "\n",
    "This notebook demonstrates advanced usage of CrewAI by:\n",
    "- Adding multiple agents with different roles\n",
    "- Assigning complex, interrelated tasks\n",
    "- Using both Azure OpenAI and Google Gemini as LLM providers\n",
    "- Experimenting with agent/task configurations\n"
   ]
  },
  {
   "cell_type": "code",
   "execution_count": null,
   "id": "ce8c4c42",
   "metadata": {},
   "outputs": [],
   "source": [
    "# Section 1: Import Required Libraries\n",
    "from crewai import Agent, Task, Crew\n",
    "import os\n"
   ]
  },
  {
   "cell_type": "markdown",
   "id": "3823cba4",
   "metadata": {},
   "source": [
    "## Section 2: Configure Multiple LLM Providers\n",
    "\n",
    "Set your API keys and endpoints for Azure OpenAI and Google Gemini. You can assign a different LLM provider to each agent.\n"
   ]
  },
  {
   "cell_type": "code",
   "execution_count": null,
   "id": "7f5854d4",
   "metadata": {},
   "outputs": [],
   "source": [
    "# Set your credentials here (replace with your actual keys)\n",
    "# Azure OpenAI\n",
    "# os.environ['AZURE_OPENAI_KEY'] = 'your-azure-openai-key'\n",
    "# os.environ['AZURE_OPENAI_ENDPOINT'] = 'your-azure-endpoint-url'\n",
    "\n",
    "# Google Gemini\n",
    "# os.environ['GOOGLE_API_KEY'] = 'your-google-api-key'\n"
   ]
  },
  {
   "cell_type": "markdown",
   "id": "b6c932ab",
   "metadata": {},
   "source": [
    "## Section 3: Define Multiple Agents with Different Roles\n",
    "\n",
    "We'll create several agents, each with a unique role and LLM provider."
   ]
  },
  {
   "cell_type": "code",
   "execution_count": null,
   "id": "06db0754",
   "metadata": {},
   "outputs": [],
   "source": [
    "# Define agents with different roles and LLM providers\n",
    "researcher = Agent(\n",
    "    name=\"Researcher\",\n",
    "    role=\"Finds and summarizes information\",\n",
    "    llm_provider=\"azure-openai\"\n",
    ")\n",
    "\n",
    "writer = Agent(\n",
    "    name=\"Writer\",\n",
    "    role=\"Drafts detailed content\",\n",
    "    llm_provider=\"google-gemini\"\n",
    ")\n",
    "\n",
    "reviewer = Agent(\n",
    "    name=\"Reviewer\",\n",
    "    role=\"Reviews and improves drafts\",\n",
    "    llm_provider=\"azure-openai\"\n",
    ")\n"
   ]
  },
  {
   "cell_type": "markdown",
   "id": "af3d9fa2",
   "metadata": {},
   "source": [
    "## Section 4: Create Complex Tasks and Assign to Agents\n",
    "\n",
    "We'll define multiple tasks that depend on each other and assign them to the appropriate agents."
   ]
  },
  {
   "cell_type": "code",
   "execution_count": null,
   "id": "a2dfa210",
   "metadata": {},
   "outputs": [],
   "source": [
    "# Define complex, interrelated tasks\n",
    "research_task = Task(\n",
    "    description=\"Research the latest trends in Agentic AI and summarize key points.\",\n",
    "    agent=researcher\n",
    ")\n",
    "\n",
    "draft_task = Task(\n",
    "    description=\"Write a detailed article draft based on the research summary.\",\n",
    "    agent=writer,\n",
    "    depends_on=[research_task]\n",
    ")\n",
    "\n",
    "review_task = Task(\n",
    "    description=\"Review the draft for clarity, accuracy, and completeness.\",\n",
    "    agent=reviewer,\n",
    "    depends_on=[draft_task]\n",
    ")\n"
   ]
  },
  {
   "cell_type": "markdown",
   "id": "197100f1",
   "metadata": {},
   "source": [
    "## Section 5: Form a Crew with Multiple Agents and Tasks\n",
    "\n",
    "Combine all agents and tasks into a Crew object."
   ]
  },
  {
   "cell_type": "code",
   "execution_count": null,
   "id": "62d208ad",
   "metadata": {},
   "outputs": [],
   "source": [
    "# Form the crew\n",
    "crew = Crew(\n",
    "    agents=[researcher, writer, reviewer],\n",
    "    tasks=[research_task, draft_task, review_task]\n",
    ")\n"
   ]
  },
  {
   "cell_type": "markdown",
   "id": "617b0cec",
   "metadata": {},
   "source": [
    "## Section 6: Run the Crew and Display Results\n",
    "\n",
    "Execute the crew and print the results for each task."
   ]
  },
  {
   "cell_type": "code",
   "execution_count": null,
   "id": "2f07ed65",
   "metadata": {},
   "outputs": [],
   "source": [
    "# Run the crew and display results\n",
    "results = crew.run()\n",
    "for task, result in results.items():\n",
    "    print(f\"Task: {task.description}\\nResult: {result}\\n{'-'*40}\")"
   ]
  },
  {
   "cell_type": "markdown",
   "id": "5335c14a",
   "metadata": {},
   "source": [
    "## Section 7: Experiment: Change LLM Providers for Agents\n",
    "\n",
    "Let's switch LLM providers for some agents and observe any differences in the results."
   ]
  },
  {
   "cell_type": "code",
   "execution_count": null,
   "id": "37f515ad",
   "metadata": {},
   "outputs": [],
   "source": [
    "# Switch LLM providers for agents\n",
    "researcher.llm_provider = \"google-gemini\"\n",
    "writer.llm_provider = \"azure-openai\"\n",
    "reviewer.llm_provider = \"google-gemini\"\n",
    "\n",
    "# Rerun the crew with new LLM assignments\n",
    "results_swapped = crew.run()\n",
    "for task, result in results_swapped.items():\n",
    "    print(f\"[Swapped LLMs] Task: {task.description}\\nResult: {result}\\n{'-'*40}\")"
   ]
  },
  {
   "cell_type": "markdown",
   "id": "5de5c47f",
   "metadata": {},
   "source": [
    "## Section 8: Experiment: Add More Agents and Tasks Dynamically\n",
    "\n",
    "Let's add a new agent and a new task, then rerun the crew to see the updated results."
   ]
  },
  {
   "cell_type": "code",
   "execution_count": null,
   "id": "dba8b99a",
   "metadata": {},
   "outputs": [],
   "source": [
    "# Add a new agent and task dynamically\n",
    "editor = Agent(\n",
    "    name=\"Editor\",\n",
    "    role=\"Edits and polishes the final article\",\n",
    "    llm_provider=\"azure-openai\"\n",
    ")\n",
    "\n",
    "edit_task = Task(\n",
    "    description=\"Edit the reviewed article for style and grammar.\",\n",
    "    agent=editor,\n",
    "    depends_on=[review_task]\n",
    ")\n",
    "\n",
    "# Add to crew\n",
    "crew.agents.append(editor)\n",
    "crew.tasks.append(edit_task)\n",
    "\n",
    "# Rerun the crew with the new agent and task\n",
    "results_extended = crew.run()\n",
    "for task, result in results_extended.items():\n",
    "    print(f\"[Extended Crew] Task: {task.description}\\nResult: {result}\\n{'-'*40}\")"
   ]
  }
 ],
 "metadata": {
  "language_info": {
   "name": "python"
  }
 },
 "nbformat": 4,
 "nbformat_minor": 5
}
