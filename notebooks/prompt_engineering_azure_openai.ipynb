{
 "cells": [
  {
   "cell_type": "markdown",
   "id": "62cfeb59",
   "metadata": {},
   "source": [
    "# Prompt Engineering with Azure OpenAI\n",
    "\n",
    "This notebook demonstrates prompt engineering techniques using Azure OpenAI models."
   ]
  },
  {
   "cell_type": "markdown",
   "id": "57a8e08e",
   "metadata": {},
   "source": [
    "## 1. Setup: Install and Import Required Libraries"
   ]
  },
  {
   "cell_type": "code",
   "execution_count": null,
   "id": "1aaada73",
   "metadata": {},
   "outputs": [],
   "source": [
    "# Install OpenAI SDK if not already installed\n",
    "!pip install openai azure-core azure-common --quiet"
   ]
  },
  {
   "cell_type": "code",
   "execution_count": null,
   "id": "cbfd5256",
   "metadata": {},
   "outputs": [],
   "source": [
    "import openai\n",
    "import os\n",
    "\n",
    "# Set your Azure OpenAI credentials\n",
    "os.environ['AZURE_OPENAI_KEY'] = 'your-azure-openai-key'\n",
    "os.environ['AZURE_OPENAI_ENDPOINT'] = 'your-azure-endpoint-url'\n",
    "os.environ['AZURE_OPENAI_MODEL'] = 'gpt-35-turbo'  # or your deployed model name\n",
    "os.environ['AZURE_OPENAI_API_VERSION'] = '2024-02-15-preview'"
   ]
  },
  {
   "cell_type": "markdown",
   "id": "53c639e4",
   "metadata": {},
   "source": [
    "## 2. Basic Prompting\n",
    "\n",
    "Let's try a simple prompt."
   ]
  },
  {
   "cell_type": "code",
   "execution_count": null,
   "id": "ae891e15",
   "metadata": {},
   "outputs": [],
   "source": [
    "response = openai.ChatCompletion.create(\n",
    "    engine=os.environ['AZURE_OPENAI_MODEL'],\n",
    "    api_key=os.environ['AZURE_OPENAI_KEY'],\n",
    "    api_base=os.environ['AZURE_OPENAI_ENDPOINT'],\n",
    "    api_version=os.environ['AZURE_OPENAI_API_VERSION'],\n",
    "    messages=[{\"role\": \"user\", \"content\": \"Write a short story about AI in healthcare.\"}]\n",
    ")\n",
    "print(response.choices[0].message['content'])"
   ]
  },
  {
   "cell_type": "markdown",
   "id": "748ea089",
   "metadata": {},
   "source": [
    "## 3. Prompt Engineering Techniques\n",
    "\n",
    "- **Instruction Prompting**\n",
    "- **Few-shot Prompting**\n",
    "- **Role Prompting**\n",
    "- **Chain-of-Thought Prompting**"
   ]
  },
  {
   "cell_type": "markdown",
   "id": "024fc91d",
   "metadata": {},
   "source": [
    "### 4.1 Instruction Prompting\n",
    "\n",
    "Ask the model to perform a specific task by giving a clear instruction."
   ]
  },
  {
   "cell_type": "code",
   "execution_count": null,
   "id": "3152468f",
   "metadata": {},
   "outputs": [],
   "source": [
    "# Instruction Prompting Example\n",
    "instruction_prompt = \"Summarize the following text in one sentence:\\nArtificial Intelligence is transforming the world by enabling machines to learn from data and make decisions.\"\n",
    "\n",
    "response = openai.ChatCompletion.create(\n",
    "    engine=os.environ['AZURE_OPENAI_MODEL'],\n",
    "    api_key=os.environ['AZURE_OPENAI_KEY'],\n",
    "    api_base=os.environ['AZURE_OPENAI_ENDPOINT'],\n",
    "    api_version=os.environ['AZURE_OPENAI_API_VERSION'],\n",
    "    messages=[{\"role\": \"user\", \"content\": instruction_prompt}]\n",
    ")\n",
    "print(response.choices[0].message['content'])"
   ]
  },
  {
   "cell_type": "markdown",
   "id": "01a6c937",
   "metadata": {},
   "source": [
    "### 4.2 Few-shot Prompting\n",
    "\n",
    "Provide a few examples in the prompt to help the model learn the pattern."
   ]
  },
  {
   "cell_type": "code",
   "execution_count": null,
   "id": "c52245e5",
   "metadata": {},
   "outputs": [],
   "source": [
    "# Few-shot Prompting Example\n",
    "few_shot_prompt = (\n",
    "    \"Translate the following English sentences to French.\\n\"\n",
    "    \"English: Good morning.\\nFrench: Bonjour.\\n\"\n",
    "    \"English: Thank you.\\nFrench: Merci.\\n\"\n",
    "    \"English: Where is the library?\\nFrench:\"\n",
    ")\n",
    "\n",
    "response = openai.ChatCompletion.create(\n",
    "    engine=os.environ['AZURE_OPENAI_MODEL'],\n",
    "    api_key=os.environ['AZURE_OPENAI_KEY'],\n",
    "    api_base=os.environ['AZURE_OPENAI_ENDPOINT'],\n",
    "    api_version=os.environ['AZURE_OPENAI_API_VERSION'],\n",
    "    messages=[{\"role\": \"user\", \"content\": few_shot_prompt}]\n",
    ")\n",
    "print(response.choices[0].message['content'])"
   ]
  },
  {
   "cell_type": "markdown",
   "id": "b49cb5c4",
   "metadata": {},
   "source": [
    "### 4.3 Role Prompting\n",
    "\n",
    "Set the model's persona or role to influence its responses."
   ]
  },
  {
   "cell_type": "code",
   "execution_count": null,
   "id": "893a09d1",
   "metadata": {},
   "outputs": [],
   "source": [
    "# Role Prompting Example\n",
    "role_prompt = \"You are a helpful assistant. Explain the concept of machine learning to a beginner.\"\n",
    "\n",
    "response = openai.ChatCompletion.create(\n",
    "    engine=os.environ['AZURE_OPENAI_MODEL'],\n",
    "    api_key=os.environ['AZURE_OPENAI_KEY'],\n",
    "    api_base=os.environ['AZURE_OPENAI_ENDPOINT'],\n",
    "    api_version=os.environ['AZURE_OPENAI_API_VERSION'],\n",
    "    messages=[\n",
    "        {\"role\": \"system\", \"content\": \"You are a helpful assistant.\"},\n",
    "        {\"role\": \"user\", \"content\": \"Explain the concept of machine learning to a beginner.\"}\n",
    "    ]\n",
    ")\n",
    "print(response.choices[0].message['content'])"
   ]
  },
  {
   "cell_type": "markdown",
   "id": "b6e56741",
   "metadata": {},
   "source": [
    "### 4.4 Chain-of-Thought Prompting\n",
    "\n",
    "Encourage the model to reason step by step for complex problems."
   ]
  },
  {
   "cell_type": "code",
   "execution_count": null,
   "id": "3c125e2b",
   "metadata": {},
   "outputs": [],
   "source": [
    "# Chain-of-Thought Prompting Example\n",
    "cot_prompt = \"If there are 3 apples and you take away 2, how many do you have? Let's think step by step.\"\n",
    "\n",
    "response = openai.ChatCompletion.create(\n",
    "    engine=os.environ['AZURE_OPENAI_MODEL'],\n",
    "    api_key=os.environ['AZURE_OPENAI_KEY'],\n",
    "    api_base=os.environ['AZURE_OPENAI_ENDPOINT'],\n",
    "    api_version=os.environ['AZURE_OPENAI_API_VERSION'],\n",
    "    messages=[{\"role\": \"user\", \"content\": cot_prompt}]\n",
    ")\n",
    "print(response.choices[0].message['content'])"
   ]
  },
  {
   "cell_type": "code",
   "execution_count": null,
   "id": "5da2a14f",
   "metadata": {},
   "outputs": [],
   "source": [
    "# Example: Few-shot Prompting\n",
    "prompt = \"Translate the following English sentences to French.\\n\"\n",
    "\"English: Hello, how are you?\\nFrench: Bonjour, comment ça va?\\n\"\n",
    "\"English: What is your name?\\nFrench: Quel est ton nom?\\n\"\n",
    "\"English: I love learning AI.\\nFrench: J'aime apprendre l'IA.\\n\""
   ]
  }
 ],
 "metadata": {
  "language_info": {
   "name": "python"
  }
 },
 "nbformat": 4,
 "nbformat_minor": 5
}
