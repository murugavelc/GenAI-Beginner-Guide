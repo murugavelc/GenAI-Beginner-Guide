{
 "cells": [
  {
   "cell_type": "markdown",
   "id": "62cfeb59",
   "metadata": {},
   "source": [
    "# Prompt Engineering with Azure OpenAI\n",
    "\n",
    "This notebook demonstrates prompt engineering techniques using Azure OpenAI models."
   ]
  },
  {
   "cell_type": "markdown",
   "id": "57a8e08e",
   "metadata": {},
   "source": [
    "## 1. Setup: Install and Import Required Libraries"
   ]
  },
  {
   "cell_type": "code",
   "execution_count": null,
   "id": "1aaada73",
   "metadata": {},
   "outputs": [],
   "source": [
    "# Install OpenAI SDK if not already installed\n",
    "!pip install openai azure-core azure-common --quiet"
   ]
  },
  {
   "cell_type": "code",
   "execution_count": null,
   "id": "cbfd5256",
   "metadata": {},
   "outputs": [],
   "source": [
    "import openai\n",
    "import os\n",
    "\n",
    "# Set your Azure OpenAI credentials\n",
    "os.environ['AZURE_OPENAI_KEY'] = 'your-azure-openai-key'\n",
    "os.environ['AZURE_OPENAI_ENDPOINT'] = 'your-azure-endpoint-url'\n",
    "os.environ['AZURE_OPENAI_MODEL'] = 'gpt-35-turbo'  # or your deployed model name\n",
    "os.environ['AZURE_OPENAI_API_VERSION'] = '2024-02-15-preview'"
   ]
  },
  {
   "cell_type": "markdown",
   "id": "53c639e4",
   "metadata": {},
   "source": [
    "## 2. Basic Prompting\n",
    "\n",
    "Let's try a simple prompt."
   ]
  },
  {
   "cell_type": "code",
   "execution_count": null,
   "id": "ae891e15",
   "metadata": {},
   "outputs": [],
   "source": [
    "response = openai.ChatCompletion.create(\n",
    "    engine=os.environ['AZURE_OPENAI_MODEL'],\n",
    "    api_key=os.environ['AZURE_OPENAI_KEY'],\n",
    "    api_base=os.environ['AZURE_OPENAI_ENDPOINT'],\n",
    "    api_version=os.environ['AZURE_OPENAI_API_VERSION'],\n",
    "    messages=[{\"role\": \"user\", \"content\": \"Write a short story about AI in healthcare.\"}]\n",
    ")\n",
    "print(response.choices[0].message['content'])"
   ]
  },
  {
   "cell_type": "markdown",
   "id": "748ea089",
   "metadata": {},
   "source": [
    "## 3. Prompt Engineering Techniques\n",
    "\n",
    "- **Instruction Prompting**\n",
    "- **Few-shot Prompting**\n",
    "- **Role Prompting**\n",
    "- **Chain-of-Thought Prompting**"
   ]
  },
  {
   "cell_type": "code",
   "execution_count": null,
   "id": "5da2a14f",
   "metadata": {},
   "outputs": [],
   "source": [
    "# Example: Few-shot Prompting\n",
    "prompt = \"Translate the following English sentences to French.\\n\"\n",
    "\"English: Hello, how are you?\\nFrench: Bonjour, comment ça va?\\n\"\n",
    "\"English: What is your name?\\nFrench: Quel est ton nom?\\n\"\n",
    "\"English: I love learning AI.\\nFrench: J'aime apprendre l'IA.\\n\""
   ]
  }
 ],
 "metadata": {
  "language_info": {
   "name": "python"
  }
 },
 "nbformat": 4,
 "nbformat_minor": 5
}
