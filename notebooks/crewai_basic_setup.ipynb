{
 "cells": [
  {
   "cell_type": "markdown",
   "id": "a5acbe13",
   "metadata": {},
   "source": [
    "# Agentic AI Basics with CrewAI\n",
    "\n",
    "This notebook introduces the basic concepts of Agentic AI using the CrewAI framework in Python. We'll also show how to configure either Azure OpenAI or Google Gemini as the LLM backend for your agents.\n",
    "\n",
    "\n",
    "\n",
    "## What is Agentic AI?\n",
    "\n",
    "Agentic AI refers to systems where autonomous agents can perceive, reason, and act to achieve goals. These agents can:\n",
    "\n",
    "- Perceive their environment\n",
    "- Make decisions\n",
    "- Take actions\n",
    "- Learn from feedback\n",
    "\n",
    "\n",
    "\n",
    "## What is CrewAI?\n",
    "\n",
    "CrewAI is a Python framework for building, orchestrating, and running agentic AI systems. It allows you to define agents, assign them tasks, and coordinate their actions using various LLMs (Large Language Models).\n",
    "\n",
    "\n",
    "\n",
    "---\n",
    "\n",
    "## Step 1: Install Required Packages\n",
    "\n",
    "We'll need CrewAI and the SDK for your chosen LLM provider (Azure OpenAI or Google Gemini)."
   ]
  },
  {
   "cell_type": "code",
   "execution_count": 6,
   "id": "f39e9783",
   "metadata": {
    "vscode": {
     "languageId": "markdown"
    }
   },
   "outputs": [
    {
     "name": "stdout",
     "output_type": "stream",
     "text": [
      "Python 3.12.10\n"
     ]
    }
   ],
   "source": [
    "# Check Python Version\n",
    "\n",
    "!python --version"
   ]
  },
  {
   "cell_type": "markdown",
   "id": "2291983c",
   "metadata": {},
   "source": [
    "### Set Up a Virtual Environment\n",
    "\n",
    "It is recommended to use a virtual environment to manage dependencies for your project. This keeps your workspace clean and avoids conflicts.\n",
    "\n",
    "\n",
    "\n",
    "**To create and activate a virtual environment, run the following commands in a terminal:**\n",
    "\n",
    "\n",
    "\n",
    "On Windows:\n",
    "\n",
    "```powershell\n",
    "python -m venv .venv\n",
    ".\\.venv\\Scripts\\activate\n",
    "```\n",
    "\n",
    "\n",
    "\n",
    "On macOS/Linux:\n",
    "\n",
    "```bash\n",
    "python3 -m venv .venv\n",
    "source .venv/bin/activate\n",
    "```\n",
    "\n",
    "\n",
    "\n",
    "Once activated, you can proceed to install the required packages in the next step."
   ]
  },
  {
   "cell_type": "code",
   "execution_count": 12,
   "id": "e8ae6e11",
   "metadata": {
    "vscode": {
     "languageId": "markdown"
    }
   },
   "outputs": [],
   "source": [
    "# Create and activate virtual enviroment if not created\n",
    "\n",
    "!python -m venv .venv\n",
    "\n",
    "\n",
    "!.\\.venv\\Scripts\\activate\n"
   ]
  },
  {
   "cell_type": "code",
   "execution_count": 13,
   "id": "d4904a52",
   "metadata": {},
   "outputs": [
    {
     "name": "stderr",
     "output_type": "stream",
     "text": [
      "ERROR: Could not find a version that satisfies the requirement azure-ai-openai (from versions: none)\n",
      "\n",
      "[notice] A new release of pip is available: 25.0.1 -> 25.2\n",
      "[notice] To update, run: python.exe -m pip install --upgrade pip\n",
      "ERROR: No matching distribution found for azure-ai-openai\n"
     ]
    }
   ],
   "source": [
    "# Install CrewAI and LLM SDKs\n",
    "\n",
    "!pip install crewai azure-ai-openai google-generativeai --quiet"
   ]
  },
  {
   "cell_type": "code",
   "execution_count": null,
   "id": "b035f1da",
   "metadata": {},
   "outputs": [],
   "source": [
    "import os\n",
    "\n",
    "# Uncomment and fill in your credentials for the provider you want to use\n",
    "\n",
    "# Azure OpenAI\n",
    "# os.environ['AZURE_OPENAI_KEY'] = 'your-azure-openai-key'\n",
    "# os.environ['AZURE_OPENAI_ENDPOINT'] = 'your-azure-endpoint-url'\n",
    "\n",
    "\n",
    "\n",
    "# Google Gemini\n",
    "# os.environ['GOOGLE_API_KEY'] = 'your-google-api-key'"
   ]
  },
  {
   "cell_type": "markdown",
   "id": "c456162c",
   "metadata": {},
   "source": [
    "## Step 3: CrewAI Basic Concepts\n",
    "\n",
    "- **Agent:** An autonomous entity that can perceive, reason, and act.\n",
    "- **Task:** A unit of work assigned to an agent.\n",
    "- **Crew:** A group of agents working together to solve a problem.\n",
    "\n",
    "\n",
    "\n",
    "Let's define a simple agent and task."
   ]
  },
  {
   "cell_type": "code",
   "execution_count": null,
   "id": "0e9ec5f0",
   "metadata": {},
   "outputs": [],
   "source": [
    "from crewai import Agent, Task, Crew\n",
    "\n",
    "\n",
    "\n",
    "# Example: Define a simple agent\n",
    "agent = Agent(\n",
    "    name=\"Researcher\",\n",
    "    role=\"Finds basic information\",\n",
    "    llm_provider=\"azure-openai\"  # or \"google-gemini\"\n",
    ")\n",
    "\n",
    "\n",
    "\n",
    "# Example: Define a simple task\n",
    "simple_task = Task(\n",
    "    description=\"What is Agentic AI?\",\n",
    "    agent=agent\n",
    ")\n",
    "\n",
    "\n",
    "\n",
    "# Example: Create a crew\n",
    "crew = Crew(agents=[agent], tasks=[simple_task])"
   ]
  },
  {
   "cell_type": "markdown",
   "id": "f04eafe0",
   "metadata": {},
   "source": [
    "## Step 4: Run the Crew\n",
    "\n",
    "Now, let's run the crew to solve the task and see the output."
   ]
  },
  {
   "cell_type": "code",
   "execution_count": null,
   "id": "540b472a",
   "metadata": {},
   "outputs": [],
   "source": [
    "# Run the crew and print the result\n",
    "result = crew.run()\n",
    "print(\"Result:\", result)"
   ]
  },
  {
   "cell_type": "markdown",
   "id": "4b186d3b",
   "metadata": {},
   "source": [
    "## Summary & Next Steps\n",
    "\n",
    "- You learned the basics of Agentic AI and CrewAI.\n",
    "- You set up a simple agent, task, and crew.\n",
    "- You configured either Azure OpenAI or Google Gemini as your LLM backend.\n",
    "\n",
    "\n",
    "\n",
    "**Next:** Try adding more agents, more complex tasks, or experiment with different LLM providers!"
   ]
  }
 ],
 "metadata": {
  "kernelspec": {
   "display_name": "Python 3",
   "language": "python",
   "name": "python3"
  },
  "language_info": {
   "codemirror_mode": {
    "name": "ipython",
    "version": 3
   },
   "file_extension": ".py",
   "mimetype": "text/x-python",
   "name": "python",
   "nbconvert_exporter": "python",
   "pygments_lexer": "ipython3",
   "version": "3.12.10"
  }
 },
 "nbformat": 4,
 "nbformat_minor": 5
}
