{
 "cells": [
  {
   "cell_type": "markdown",
   "id": "81a4a762",
   "metadata": {},
   "source": [
    "# Install dependencies"
   ]
  },
  {
   "cell_type": "code",
   "execution_count": null,
   "id": "4f6c6aae",
   "metadata": {},
   "outputs": [],
   "source": [
    "%%capture --no-stderr\n",
    "%pip install -U --quiet 'crewai[tools]' aisuite"
   ]
  },
  {
   "cell_type": "markdown",
   "id": "73ba8899",
   "metadata": {},
   "source": [
    "# Set environment variables"
   ]
  },
  {
   "cell_type": "code",
   "execution_count": null,
   "id": "a3c25d16",
   "metadata": {},
   "outputs": [],
   "source": [
    "import getpass\n",
    "import os\n",
    "\n",
    "os.environ[\"OPENAI_API_KEY\"] = getpass.getpass(\"Enter your OpenAI API key: \")\n",
    "\n",
    "# Apply a patch to allow nested asyncio loops in Jupyter\n",
    "import nest_asyncio\n",
    "nest_asyncio.apply()"
   ]
  },
  {
   "cell_type": "markdown",
   "id": "e989a48d",
   "metadata": {},
   "source": [
    "# Create Crew"
   ]
  },
  {
   "cell_type": "code",
   "execution_count": null,
   "id": "26e1ffbb",
   "metadata": {},
   "outputs": [],
   "source": [
    "# Importing Crew related components\n",
    "# Importing CrewAI Flow related components\n",
    "# Importing CrewAI Tools\n",
    "from crewai import Agent, Task, Crew\n",
    "from crewai.flow.flow import Flow, listen, start\n",
    "from crewai_tools import WebsiteSearchTool\n",
    "\n",
    "# Importing AI Suite for adhoc LLM calls and Pydantic\n",
    "from pydantic import BaseModel\n",
    "import aisuite as ai\n",
    "\n",
    "urls = [\n",
    "    \"https://lilianweng.github.io/posts/2023-06-23-agent/\",\n",
    "    \"https://lilianweng.github.io/posts/2023-03-15-prompt-engineering/\",\n",
    "    \"https://lilianweng.github.io/posts/2023-10-25-adv-attack-llm/\",\n",
    "]\n",
    "\n",
    "research_agent = Agent(\n",
    "    role=\"You are a helpful assistant that can answer questions about the web.\",\n",
    "    goal=\"Answer the user's question.\",\n",
    "    backstory=\"You have access to a vast knowledge base of information from the web.\",\n",
    "    tools=[\n",
    "      WebsiteSearchTool(website=urls[0]),\n",
    "      WebsiteSearchTool(website=urls[1]),\n",
    "      WebsiteSearchTool(website=urls[2]),\n",
    "    ],\n",
    "    llm=\"gpt-4o-mini\",\n",
    ")\n",
    "\n",
    "task = Task(\n",
    "  description=\"Answer the following question: {question}\",\n",
    "  expected_output=\"A detailed and accurate answer to the user's question.\",\n",
    "  agent=research_agent,\n",
    ")\n",
    "\n",
    "crew = Crew(\n",
    "    agents=[research_agent],\n",
    "    tasks=[task],\n",
    ")"
   ]
  },
  {
   "cell_type": "markdown",
   "id": "d5c8de5b",
   "metadata": {},
   "source": [
    "# Creating State"
   ]
  },
  {
   "cell_type": "code",
   "execution_count": null,
   "id": "7c870d0d",
   "metadata": {},
   "outputs": [],
   "source": [
    "class QAState(BaseModel):\n",
    "  \"\"\"\n",
    "  State for the documentation flow\n",
    "  \"\"\"\n",
    "  question: str = \"What does Lilian Weng say about the types of agent memory?\"\n",
    "  improved_question: str = \"\"\n",
    "  answer: str = \"\""
   ]
  },
  {
   "cell_type": "markdown",
   "id": "ff772777",
   "metadata": {},
   "source": [
    "# Creating Flow"
   ]
  },
  {
   "cell_type": "code",
   "execution_count": null,
   "id": "183301f9",
   "metadata": {},
   "outputs": [],
   "source": [
    "class QAFlow(Flow[QAState]):\n",
    "  @start()\n",
    "  def rewrite_question(self):\n",
    "    print(f\"# Rewriting question: {self.state.question}\")\n",
    "    client = ai.Client()\n",
    "    messages = [\n",
    "        {\n",
    "          \"role\": \"system\",\n",
    "          \"content\": f\"\"\"Look at the input and try to reason about the underlying semantic intent / meaning.\n",
    "            Here is the initial question:\n",
    "            -------\n",
    "            {self.state.question}\n",
    "            -------\n",
    "            Formulate an improved question:\"\"\"\n",
    "        }\n",
    "    ]\n",
    "\n",
    "    response = client.chat.completions.create(\n",
    "        model=\"openai:gpt-4o-mini\",\n",
    "        messages=messages,\n",
    "        temperature=0.3\n",
    "    )\n",
    "\n",
    "    print(response)\n",
    "\n",
    "    improved_question = response.choices[0].message.content\n",
    "    self.state.improved_question = improved_question\n",
    "\n",
    "  @listen(rewrite_question)\n",
    "  def answer_question(self):\n",
    "    print(f\"# Answering question: {self.state.improved_question}\")\n",
    "    result = crew.kickoff(inputs={'question': self.state.improved_question})\n",
    "    self.state.answer = result.raw\n",
    "    return result"
   ]
  },
  {
   "cell_type": "markdown",
   "id": "660072ba",
   "metadata": {},
   "source": [
    "# Plotting Flow"
   ]
  },
  {
   "cell_type": "code",
   "execution_count": null,
   "id": "dc1b3039",
   "metadata": {},
   "outputs": [],
   "source": [
    "flow = QAFlow()\n",
    "flow.plot()\n",
    "\n",
    "# Display the flow visualization using HTML\n",
    "from IPython.display import IFrame\n",
    "IFrame(src='crewai_flow.html', width='100%', height=400)"
   ]
  },
  {
   "cell_type": "markdown",
   "id": "182712a9",
   "metadata": {},
   "source": [
    "# Kicking off Flow"
   ]
  },
  {
   "cell_type": "code",
   "execution_count": null,
   "id": "8c52e619",
   "metadata": {},
   "outputs": [],
   "source": [
    "result = flow.kickoff()\n",
    "print(\"=\" * 10)\n",
    "print(result)"
   ]
  }
 ],
 "metadata": {
  "language_info": {
   "name": "python"
  }
 },
 "nbformat": 4,
 "nbformat_minor": 5
}
